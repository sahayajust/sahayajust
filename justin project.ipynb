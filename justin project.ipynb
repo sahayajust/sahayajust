{
 "cells": [
  {
   "cell_type": "code",
   "execution_count": 97,
   "id": "6b1f18de-a8f8-4a56-aba3-899f08145887",
   "metadata": {},
   "outputs": [],
   "source": [
    "import numpy as np\n",
    "import pandas as pd\n",
    "\n",
    "import matplotlib.pyplot as plt\n",
    "import seaborn as sns\n",
    "import plotly.graph_objects as go\n",
    "import plotly.express as px\n",
    "\n",
    "import os\n",
    "import warnings\n",
    "\n",
    "warnings.filterwarnings('ignore')\n",
    "np.random.seed(2021)"
   ]
  },
  {
   "cell_type": "code",
   "execution_count": 98,
   "id": "421d10a0-4263-405c-b91f-eeb8f7028d1d",
   "metadata": {},
   "outputs": [
    {
     "data": {
      "text/html": [
       "<div>\n",
       "<style scoped>\n",
       "    .dataframe tbody tr th:only-of-type {\n",
       "        vertical-align: middle;\n",
       "    }\n",
       "\n",
       "    .dataframe tbody tr th {\n",
       "        vertical-align: top;\n",
       "    }\n",
       "\n",
       "    .dataframe thead th {\n",
       "        text-align: right;\n",
       "    }\n",
       "</style>\n",
       "<table border=\"1\" class=\"dataframe\">\n",
       "  <thead>\n",
       "    <tr style=\"text-align: right;\">\n",
       "      <th></th>\n",
       "      <th>year</th>\n",
       "      <th>region</th>\n",
       "      <th>wine</th>\n",
       "      <th>beer</th>\n",
       "      <th>vodka</th>\n",
       "      <th>champagne</th>\n",
       "      <th>brandy</th>\n",
       "    </tr>\n",
       "  </thead>\n",
       "  <tbody>\n",
       "    <tr>\n",
       "      <th>0</th>\n",
       "      <td>1998</td>\n",
       "      <td>Republic of Adygea</td>\n",
       "      <td>1.9</td>\n",
       "      <td>8.8</td>\n",
       "      <td>3.4</td>\n",
       "      <td>0.3</td>\n",
       "      <td>0.1</td>\n",
       "    </tr>\n",
       "    <tr>\n",
       "      <th>1</th>\n",
       "      <td>1998</td>\n",
       "      <td>Altai Krai</td>\n",
       "      <td>3.3</td>\n",
       "      <td>19.2</td>\n",
       "      <td>11.3</td>\n",
       "      <td>1.1</td>\n",
       "      <td>0.1</td>\n",
       "    </tr>\n",
       "    <tr>\n",
       "      <th>2</th>\n",
       "      <td>1998</td>\n",
       "      <td>Amur Oblast</td>\n",
       "      <td>2.1</td>\n",
       "      <td>21.2</td>\n",
       "      <td>17.3</td>\n",
       "      <td>0.7</td>\n",
       "      <td>0.4</td>\n",
       "    </tr>\n",
       "    <tr>\n",
       "      <th>3</th>\n",
       "      <td>1998</td>\n",
       "      <td>Arkhangelsk Oblast</td>\n",
       "      <td>4.3</td>\n",
       "      <td>10.6</td>\n",
       "      <td>11.7</td>\n",
       "      <td>0.4</td>\n",
       "      <td>0.3</td>\n",
       "    </tr>\n",
       "    <tr>\n",
       "      <th>4</th>\n",
       "      <td>1998</td>\n",
       "      <td>Astrakhan Oblast</td>\n",
       "      <td>2.9</td>\n",
       "      <td>18.0</td>\n",
       "      <td>9.5</td>\n",
       "      <td>0.8</td>\n",
       "      <td>0.2</td>\n",
       "    </tr>\n",
       "    <tr>\n",
       "      <th>...</th>\n",
       "      <td>...</td>\n",
       "      <td>...</td>\n",
       "      <td>...</td>\n",
       "      <td>...</td>\n",
       "      <td>...</td>\n",
       "      <td>...</td>\n",
       "      <td>...</td>\n",
       "    </tr>\n",
       "    <tr>\n",
       "      <th>1610</th>\n",
       "      <td>2016</td>\n",
       "      <td>Chuvash Republic</td>\n",
       "      <td>5.0</td>\n",
       "      <td>42.3</td>\n",
       "      <td>7.7</td>\n",
       "      <td>0.7</td>\n",
       "      <td>0.4</td>\n",
       "    </tr>\n",
       "    <tr>\n",
       "      <th>1611</th>\n",
       "      <td>2016</td>\n",
       "      <td>Chukotka Autonomous Okrug</td>\n",
       "      <td>3.9</td>\n",
       "      <td>34.0</td>\n",
       "      <td>11.6</td>\n",
       "      <td>1.8</td>\n",
       "      <td>1.1</td>\n",
       "    </tr>\n",
       "    <tr>\n",
       "      <th>1612</th>\n",
       "      <td>2016</td>\n",
       "      <td>Sakha (Yakutia) Republic</td>\n",
       "      <td>4.3</td>\n",
       "      <td>56.1</td>\n",
       "      <td>8.2</td>\n",
       "      <td>1.8</td>\n",
       "      <td>0.5</td>\n",
       "    </tr>\n",
       "    <tr>\n",
       "      <th>1613</th>\n",
       "      <td>2016</td>\n",
       "      <td>Yamalo-Nenets Autonomous Okrug</td>\n",
       "      <td>4.5</td>\n",
       "      <td>75.8</td>\n",
       "      <td>8.2</td>\n",
       "      <td>1.7</td>\n",
       "      <td>1.3</td>\n",
       "    </tr>\n",
       "    <tr>\n",
       "      <th>1614</th>\n",
       "      <td>2016</td>\n",
       "      <td>Yaroslavl Oblast</td>\n",
       "      <td>10.2</td>\n",
       "      <td>38.0</td>\n",
       "      <td>8.9</td>\n",
       "      <td>1.4</td>\n",
       "      <td>1.0</td>\n",
       "    </tr>\n",
       "  </tbody>\n",
       "</table>\n",
       "<p>1615 rows × 7 columns</p>\n",
       "</div>"
      ],
      "text/plain": [
       "      year                          region  wine  beer  vodka  champagne  \\\n",
       "0     1998              Republic of Adygea   1.9   8.8    3.4        0.3   \n",
       "1     1998                      Altai Krai   3.3  19.2   11.3        1.1   \n",
       "2     1998                     Amur Oblast   2.1  21.2   17.3        0.7   \n",
       "3     1998              Arkhangelsk Oblast   4.3  10.6   11.7        0.4   \n",
       "4     1998                Astrakhan Oblast   2.9  18.0    9.5        0.8   \n",
       "...    ...                             ...   ...   ...    ...        ...   \n",
       "1610  2016                Chuvash Republic   5.0  42.3    7.7        0.7   \n",
       "1611  2016       Chukotka Autonomous Okrug   3.9  34.0   11.6        1.8   \n",
       "1612  2016        Sakha (Yakutia) Republic   4.3  56.1    8.2        1.8   \n",
       "1613  2016  Yamalo-Nenets Autonomous Okrug   4.5  75.8    8.2        1.7   \n",
       "1614  2016                Yaroslavl Oblast  10.2  38.0    8.9        1.4   \n",
       "\n",
       "      brandy  \n",
       "0        0.1  \n",
       "1        0.1  \n",
       "2        0.4  \n",
       "3        0.3  \n",
       "4        0.2  \n",
       "...      ...  \n",
       "1610     0.4  \n",
       "1611     1.1  \n",
       "1612     0.5  \n",
       "1613     1.3  \n",
       "1614     1.0  \n",
       "\n",
       "[1615 rows x 7 columns]"
      ]
     },
     "execution_count": 98,
     "metadata": {},
     "output_type": "execute_result"
    }
   ],
   "source": [
    "df=pd.read_csv(\"russia_alcohol.csv\")\n",
    "df"
   ]
  },
  {
   "cell_type": "code",
   "execution_count": 99,
   "id": "c4ed250f-f616-4098-80a3-ec83c88209ea",
   "metadata": {},
   "outputs": [
    {
     "name": "stdout",
     "output_type": "stream",
     "text": [
      "<class 'pandas.core.frame.DataFrame'>\n",
      "RangeIndex: 1615 entries, 0 to 1614\n",
      "Data columns (total 7 columns):\n",
      " #   Column     Non-Null Count  Dtype  \n",
      "---  ------     --------------  -----  \n",
      " 0   year       1615 non-null   int64  \n",
      " 1   region     1615 non-null   object \n",
      " 2   wine       1552 non-null   float64\n",
      " 3   beer       1557 non-null   float64\n",
      " 4   vodka      1554 non-null   float64\n",
      " 5   champagne  1552 non-null   float64\n",
      " 6   brandy     1549 non-null   float64\n",
      "dtypes: float64(5), int64(1), object(1)\n",
      "memory usage: 88.4+ KB\n"
     ]
    }
   ],
   "source": [
    "df.info()"
   ]
  },
  {
   "cell_type": "code",
   "execution_count": 100,
   "id": "a1962011-0929-4f5a-aa84-b311aed581cb",
   "metadata": {},
   "outputs": [
    {
     "data": {
      "text/plain": [
       "year          0\n",
       "region        0\n",
       "wine         63\n",
       "beer         58\n",
       "vodka        61\n",
       "champagne    63\n",
       "brandy       66\n",
       "dtype: int64"
      ]
     },
     "execution_count": 100,
     "metadata": {},
     "output_type": "execute_result"
    }
   ],
   "source": [
    "df.isna().sum()"
   ]
  },
  {
   "cell_type": "code",
   "execution_count": 101,
   "id": "8fc82f81-2d9d-4744-8f04-6816a781e130",
   "metadata": {},
   "outputs": [
    {
     "data": {
      "text/html": [
       "<style type=\"text/css\">\n",
       "#T_0f351_row0_col0 {\n",
       "  background-color: #800000;\n",
       "  color: #f1f1f1;\n",
       "}\n",
       "#T_0f351_row1_col0, #T_0f351_row2_col0 {\n",
       "  background-color: #960000;\n",
       "  color: #f1f1f1;\n",
       "}\n",
       "#T_0f351_row3_col0 {\n",
       "  background-color: #a60000;\n",
       "  color: #f1f1f1;\n",
       "}\n",
       "#T_0f351_row4_col0 {\n",
       "  background-color: #be0000;\n",
       "  color: #f1f1f1;\n",
       "}\n",
       "#T_0f351_row5_col0, #T_0f351_row6_col0 {\n",
       "  background-color: #00004c;\n",
       "  color: #f1f1f1;\n",
       "}\n",
       "</style>\n",
       "<table id=\"T_0f351\">\n",
       "  <thead>\n",
       "    <tr>\n",
       "      <th class=\"blank level0\" >&nbsp;</th>\n",
       "      <th id=\"T_0f351_level0_col0\" class=\"col_heading level0 col0\" >NA Count</th>\n",
       "      <th id=\"T_0f351_level0_col1\" class=\"col_heading level0 col1\" >NA Percent</th>\n",
       "    </tr>\n",
       "  </thead>\n",
       "  <tbody>\n",
       "    <tr>\n",
       "      <th id=\"T_0f351_level0_row0\" class=\"row_heading level0 row0\" >brandy</th>\n",
       "      <td id=\"T_0f351_row0_col0\" class=\"data row0 col0\" >66</td>\n",
       "      <td id=\"T_0f351_row0_col1\" class=\"data row0 col1\" >4.09%</td>\n",
       "    </tr>\n",
       "    <tr>\n",
       "      <th id=\"T_0f351_level0_row1\" class=\"row_heading level0 row1\" >wine</th>\n",
       "      <td id=\"T_0f351_row1_col0\" class=\"data row1 col0\" >63</td>\n",
       "      <td id=\"T_0f351_row1_col1\" class=\"data row1 col1\" >3.90%</td>\n",
       "    </tr>\n",
       "    <tr>\n",
       "      <th id=\"T_0f351_level0_row2\" class=\"row_heading level0 row2\" >champagne</th>\n",
       "      <td id=\"T_0f351_row2_col0\" class=\"data row2 col0\" >63</td>\n",
       "      <td id=\"T_0f351_row2_col1\" class=\"data row2 col1\" >3.90%</td>\n",
       "    </tr>\n",
       "    <tr>\n",
       "      <th id=\"T_0f351_level0_row3\" class=\"row_heading level0 row3\" >vodka</th>\n",
       "      <td id=\"T_0f351_row3_col0\" class=\"data row3 col0\" >61</td>\n",
       "      <td id=\"T_0f351_row3_col1\" class=\"data row3 col1\" >3.78%</td>\n",
       "    </tr>\n",
       "    <tr>\n",
       "      <th id=\"T_0f351_level0_row4\" class=\"row_heading level0 row4\" >beer</th>\n",
       "      <td id=\"T_0f351_row4_col0\" class=\"data row4 col0\" >58</td>\n",
       "      <td id=\"T_0f351_row4_col1\" class=\"data row4 col1\" >3.59%</td>\n",
       "    </tr>\n",
       "    <tr>\n",
       "      <th id=\"T_0f351_level0_row5\" class=\"row_heading level0 row5\" >year</th>\n",
       "      <td id=\"T_0f351_row5_col0\" class=\"data row5 col0\" >0</td>\n",
       "      <td id=\"T_0f351_row5_col1\" class=\"data row5 col1\" >0.00%</td>\n",
       "    </tr>\n",
       "    <tr>\n",
       "      <th id=\"T_0f351_level0_row6\" class=\"row_heading level0 row6\" >region</th>\n",
       "      <td id=\"T_0f351_row6_col0\" class=\"data row6 col0\" >0</td>\n",
       "      <td id=\"T_0f351_row6_col1\" class=\"data row6 col1\" >0.00%</td>\n",
       "    </tr>\n",
       "  </tbody>\n",
       "</table>\n"
      ],
      "text/plain": [
       "<pandas.io.formats.style.Styler at 0x224b8c0f1d0>"
      ]
     },
     "execution_count": 101,
     "metadata": {},
     "output_type": "execute_result"
    }
   ],
   "source": [
    "NA = pd.DataFrame(\n",
    "    data=[\n",
    "        df.isna().sum().tolist(),\n",
    "        [\n",
    "            \"{:.2f}\".format(i) + \"%\"\n",
    "            for i in (df.isna().sum() / df.shape[0] * 100).tolist()\n",
    "        ],\n",
    "    ],\n",
    "    columns=df.columns,\n",
    "    index=[\"NA Count\", \"NA Percent\"],\n",
    ").T.sort_values(by=\"NA Count\", ascending=False)\n",
    "NA.style.background_gradient(cmap=\"seismic\", subset=[\"NA Count\"])"
   ]
  },
  {
   "cell_type": "code",
   "execution_count": 102,
   "id": "d934fa37-0a8d-4f90-997a-2ddce1318f39",
   "metadata": {},
   "outputs": [
    {
     "data": {
      "text/plain": [
       "year         0\n",
       "region       0\n",
       "wine         0\n",
       "beer         0\n",
       "vodka        0\n",
       "champagne    0\n",
       "brandy       0\n",
       "dtype: int64"
      ]
     },
     "execution_count": 102,
     "metadata": {},
     "output_type": "execute_result"
    }
   ],
   "source": [
    "df.fillna(method=\"pad\", inplace=True)\n",
    "df.isna().sum()"
   ]
  },
  {
   "cell_type": "code",
   "execution_count": 103,
   "id": "88fb687f-cdff-42c5-b776-6215d3e63e4b",
   "metadata": {},
   "outputs": [
    {
     "data": {
      "text/html": [
       "<div>\n",
       "<style scoped>\n",
       "    .dataframe tbody tr th:only-of-type {\n",
       "        vertical-align: middle;\n",
       "    }\n",
       "\n",
       "    .dataframe tbody tr th {\n",
       "        vertical-align: top;\n",
       "    }\n",
       "\n",
       "    .dataframe thead th {\n",
       "        text-align: right;\n",
       "    }\n",
       "</style>\n",
       "<table border=\"1\" class=\"dataframe\">\n",
       "  <thead>\n",
       "    <tr style=\"text-align: right;\">\n",
       "      <th></th>\n",
       "      <th>year</th>\n",
       "      <th>region</th>\n",
       "      <th>wine</th>\n",
       "      <th>beer</th>\n",
       "      <th>vodka</th>\n",
       "      <th>champagne</th>\n",
       "      <th>brandy</th>\n",
       "    </tr>\n",
       "  </thead>\n",
       "  <tbody>\n",
       "    <tr>\n",
       "      <th>0</th>\n",
       "      <td>1998</td>\n",
       "      <td>Republic of Adygea</td>\n",
       "      <td>1.9</td>\n",
       "      <td>8.8</td>\n",
       "      <td>3.4</td>\n",
       "      <td>0.3</td>\n",
       "      <td>0.1</td>\n",
       "    </tr>\n",
       "    <tr>\n",
       "      <th>1</th>\n",
       "      <td>1998</td>\n",
       "      <td>Altai Krai</td>\n",
       "      <td>3.3</td>\n",
       "      <td>19.2</td>\n",
       "      <td>11.3</td>\n",
       "      <td>1.1</td>\n",
       "      <td>0.1</td>\n",
       "    </tr>\n",
       "    <tr>\n",
       "      <th>2</th>\n",
       "      <td>1998</td>\n",
       "      <td>Amur Oblast</td>\n",
       "      <td>2.1</td>\n",
       "      <td>21.2</td>\n",
       "      <td>17.3</td>\n",
       "      <td>0.7</td>\n",
       "      <td>0.4</td>\n",
       "    </tr>\n",
       "    <tr>\n",
       "      <th>3</th>\n",
       "      <td>1998</td>\n",
       "      <td>Arkhangelsk Oblast</td>\n",
       "      <td>4.3</td>\n",
       "      <td>10.6</td>\n",
       "      <td>11.7</td>\n",
       "      <td>0.4</td>\n",
       "      <td>0.3</td>\n",
       "    </tr>\n",
       "    <tr>\n",
       "      <th>4</th>\n",
       "      <td>1998</td>\n",
       "      <td>Astrakhan Oblast</td>\n",
       "      <td>2.9</td>\n",
       "      <td>18.0</td>\n",
       "      <td>9.5</td>\n",
       "      <td>0.8</td>\n",
       "      <td>0.2</td>\n",
       "    </tr>\n",
       "  </tbody>\n",
       "</table>\n",
       "</div>"
      ],
      "text/plain": [
       "   year              region  wine  beer  vodka  champagne  brandy\n",
       "0  1998  Republic of Adygea   1.9   8.8    3.4        0.3     0.1\n",
       "1  1998          Altai Krai   3.3  19.2   11.3        1.1     0.1\n",
       "2  1998         Amur Oblast   2.1  21.2   17.3        0.7     0.4\n",
       "3  1998  Arkhangelsk Oblast   4.3  10.6   11.7        0.4     0.3\n",
       "4  1998    Astrakhan Oblast   2.9  18.0    9.5        0.8     0.2"
      ]
     },
     "execution_count": 103,
     "metadata": {},
     "output_type": "execute_result"
    }
   ],
   "source": [
    "df.head()"
   ]
  },
  {
   "cell_type": "code",
   "execution_count": 104,
   "id": "930e0a71-a287-408b-878b-1bdd5e505257",
   "metadata": {},
   "outputs": [
    {
     "data": {
      "text/html": [
       "<div>\n",
       "<style scoped>\n",
       "    .dataframe tbody tr th:only-of-type {\n",
       "        vertical-align: middle;\n",
       "    }\n",
       "\n",
       "    .dataframe tbody tr th {\n",
       "        vertical-align: top;\n",
       "    }\n",
       "\n",
       "    .dataframe thead th {\n",
       "        text-align: right;\n",
       "    }\n",
       "</style>\n",
       "<table border=\"1\" class=\"dataframe\">\n",
       "  <thead>\n",
       "    <tr style=\"text-align: right;\">\n",
       "      <th></th>\n",
       "      <th>year</th>\n",
       "      <th>wine</th>\n",
       "      <th>beer</th>\n",
       "      <th>vodka</th>\n",
       "      <th>champagne</th>\n",
       "      <th>brandy</th>\n",
       "    </tr>\n",
       "  </thead>\n",
       "  <tbody>\n",
       "    <tr>\n",
       "      <th>count</th>\n",
       "      <td>1615.000000</td>\n",
       "      <td>1615.000000</td>\n",
       "      <td>1615.000000</td>\n",
       "      <td>1615.000000</td>\n",
       "      <td>1615.000000</td>\n",
       "      <td>1615.000000</td>\n",
       "    </tr>\n",
       "    <tr>\n",
       "      <th>mean</th>\n",
       "      <td>2007.000000</td>\n",
       "      <td>5.671344</td>\n",
       "      <td>52.021009</td>\n",
       "      <td>11.861368</td>\n",
       "      <td>1.313709</td>\n",
       "      <td>0.527412</td>\n",
       "    </tr>\n",
       "    <tr>\n",
       "      <th>std</th>\n",
       "      <td>5.478922</td>\n",
       "      <td>2.812985</td>\n",
       "      <td>25.713115</td>\n",
       "      <td>5.079280</td>\n",
       "      <td>0.786660</td>\n",
       "      <td>0.394540</td>\n",
       "    </tr>\n",
       "    <tr>\n",
       "      <th>min</th>\n",
       "      <td>1998.000000</td>\n",
       "      <td>0.100000</td>\n",
       "      <td>0.400000</td>\n",
       "      <td>0.050000</td>\n",
       "      <td>0.100000</td>\n",
       "      <td>0.000000</td>\n",
       "    </tr>\n",
       "    <tr>\n",
       "      <th>25%</th>\n",
       "      <td>2002.000000</td>\n",
       "      <td>3.700000</td>\n",
       "      <td>32.700000</td>\n",
       "      <td>8.400000</td>\n",
       "      <td>0.800000</td>\n",
       "      <td>0.200000</td>\n",
       "    </tr>\n",
       "    <tr>\n",
       "      <th>50%</th>\n",
       "      <td>2007.000000</td>\n",
       "      <td>5.400000</td>\n",
       "      <td>50.600000</td>\n",
       "      <td>11.600000</td>\n",
       "      <td>1.200000</td>\n",
       "      <td>0.400000</td>\n",
       "    </tr>\n",
       "    <tr>\n",
       "      <th>75%</th>\n",
       "      <td>2012.000000</td>\n",
       "      <td>7.400000</td>\n",
       "      <td>68.500000</td>\n",
       "      <td>15.045000</td>\n",
       "      <td>1.685000</td>\n",
       "      <td>0.700000</td>\n",
       "    </tr>\n",
       "    <tr>\n",
       "      <th>max</th>\n",
       "      <td>2016.000000</td>\n",
       "      <td>18.100000</td>\n",
       "      <td>207.300000</td>\n",
       "      <td>40.600000</td>\n",
       "      <td>5.560000</td>\n",
       "      <td>2.300000</td>\n",
       "    </tr>\n",
       "  </tbody>\n",
       "</table>\n",
       "</div>"
      ],
      "text/plain": [
       "              year         wine         beer        vodka    champagne  \\\n",
       "count  1615.000000  1615.000000  1615.000000  1615.000000  1615.000000   \n",
       "mean   2007.000000     5.671344    52.021009    11.861368     1.313709   \n",
       "std       5.478922     2.812985    25.713115     5.079280     0.786660   \n",
       "min    1998.000000     0.100000     0.400000     0.050000     0.100000   \n",
       "25%    2002.000000     3.700000    32.700000     8.400000     0.800000   \n",
       "50%    2007.000000     5.400000    50.600000    11.600000     1.200000   \n",
       "75%    2012.000000     7.400000    68.500000    15.045000     1.685000   \n",
       "max    2016.000000    18.100000   207.300000    40.600000     5.560000   \n",
       "\n",
       "            brandy  \n",
       "count  1615.000000  \n",
       "mean      0.527412  \n",
       "std       0.394540  \n",
       "min       0.000000  \n",
       "25%       0.200000  \n",
       "50%       0.400000  \n",
       "75%       0.700000  \n",
       "max       2.300000  "
      ]
     },
     "execution_count": 104,
     "metadata": {},
     "output_type": "execute_result"
    }
   ],
   "source": [
    "df.describe()"
   ]
  },
  {
   "cell_type": "code",
   "execution_count": 105,
   "id": "582a262d-1b85-4e2c-a542-9fae6322a98e",
   "metadata": {},
   "outputs": [],
   "source": [
    "#list(df['region'].unique())"
   ]
  },
  {
   "cell_type": "code",
   "execution_count": 106,
   "id": "a738454b-50f8-42c5-8afa-302e4ad29611",
   "metadata": {},
   "outputs": [
    {
     "data": {
      "image/png": "[encoded data removed]",
      "text/plain": [
       "<Figure size 1500x600 with 5 Axes>"
      ]
     },
     "metadata": {},
     "output_type": "display_data"
    }
   ],
   "source": [
    "fig, axes = plt.subplots(1, 5, figsize=(15, 6), sharey=True)\n",
    "for x in range(1, 6, 1):\n",
    "    column_name = df.columns[x + 1]\n",
    "    sns.lineplot(data=df, x=\"year\", y=f\"{column_name}\", ax=axes[x - 1])\n",
    "    axes[x - 1].set_title(f\"{column_name} consumption\")\n",
    "    axes[x - 1].set_xlabel(\"Year\")\n",
    "    axes[x - 1].set_ylabel(\"litres per capita\")"
   ]
  },
  {
   "cell_type": "code",
   "execution_count": 107,
   "id": "6a4a6b18-0ef4-454f-b5a8-06c90cb6d1ec",
   "metadata": {},
   "outputs": [
    {
     "data": {
      "text/plain": [
       "Text(0.5, 1.0, 'Box Plot')"
      ]
     },
     "execution_count": 107,
     "metadata": {},
     "output_type": "execute_result"
    },
    {
     "data": {
      "image/png": "[encoded data removed]",
      "text/plain": [
       "<Figure size 800x600 with 1 Axes>"
      ]
     },
     "metadata": {},
     "output_type": "display_data"
    }
   ],
   "source": [
    "plt.figure(figsize=(8, 6))\n",
    "sns.boxplot(data=df['wine'])\n",
    "plt.title('Box Plot')"
   ]
  },
  {
   "cell_type": "code",
   "execution_count": 108,
   "id": "fb4595bf-d31d-4da6-bbd5-33e80adb19d4",
   "metadata": {},
   "outputs": [
    {
     "data": {
      "text/plain": [
       "Text(0.5, 1.0, 'Box Plot for Numerical Columns')"
      ]
     },
     "execution_count": 108,
     "metadata": {},
     "output_type": "execute_result"
    },
    {
     "data": {
      "image/png": "[encoded data removed]",
      "text/plain": [
       "<Figure size 800x600 with 1 Axes>"
      ]
     },
     "metadata": {},
     "output_type": "display_data"
    }
   ],
   "source": [
    "plt.figure(figsize=(8, 6))\n",
    "sns.boxplot(data=df['beer'])\n",
    "plt.title('Box Plot for Numerical Columns')"
   ]
  },
  {
   "cell_type": "code",
   "execution_count": 109,
   "id": "23bac6e7-8169-4959-9df6-c85ed055840f",
   "metadata": {},
   "outputs": [
    {
     "data": {
      "text/plain": [
       "Text(0.5, 1.0, 'Box Plot for Numerical Columns')"
      ]
     },
     "execution_count": 109,
     "metadata": {},
     "output_type": "execute_result"
    },
    {
     "data": {
      "image/png": "[encoded data removed]",
      "text/plain": [
       "<Figure size 800x600 with 1 Axes>"
      ]
     },
     "metadata": {},
     "output_type": "display_data"
    }
   ],
   "source": [
    "plt.figure(figsize=(8, 6))\n",
    "sns.boxplot(data=df['vodka'])\n",
    "plt.title('Box Plot for Numerical Columns')"
   ]
  },
  {
   "cell_type": "code",
   "execution_count": 110,
   "id": "c195b6e2-7d5e-4f7c-b7c0-743857bdc97b",
   "metadata": {},
   "outputs": [
    {
     "data": {
      "text/plain": [
       "Text(0.5, 1.0, 'Box Plot for Numerical Columns')"
      ]
     },
     "execution_count": 110,
     "metadata": {},
     "output_type": "execute_result"
    },
    {
     "data": {
      "image/png": "[encoded data removed]",
      "text/plain": [
       "<Figure size 800x600 with 1 Axes>"
      ]
     },
     "metadata": {},
     "output_type": "display_data"
    }
   ],
   "source": [
    "plt.figure(figsize=(8, 6))\n",
    "sns.boxplot(data=df['champagne'])\n",
    "plt.title('Box Plot for Numerical Columns')"
   ]
  },
  {
   "cell_type": "markdown",
   "id": "3efe9765-7b16-4052-b5b7-681887a41b98",
   "metadata": {},
   "source": [
    "## PICKING NUMERICAL COLUMNS FROM THE DATASET "
   ]
  },
  {
   "cell_type": "code",
   "execution_count": 111,
   "id": "052aa9ef-937c-494c-997b-aea065c9a886",
   "metadata": {},
   "outputs": [
    {
     "data": {
      "text/html": [
       "<div>\n",
       "<style scoped>\n",
       "    .dataframe tbody tr th:only-of-type {\n",
       "        vertical-align: middle;\n",
       "    }\n",
       "\n",
       "    .dataframe tbody tr th {\n",
       "        vertical-align: top;\n",
       "    }\n",
       "\n",
       "    .dataframe thead th {\n",
       "        text-align: right;\n",
       "    }\n",
       "</style>\n",
       "<table border=\"1\" class=\"dataframe\">\n",
       "  <thead>\n",
       "    <tr style=\"text-align: right;\">\n",
       "      <th></th>\n",
       "      <th>year</th>\n",
       "      <th>wine</th>\n",
       "      <th>beer</th>\n",
       "      <th>vodka</th>\n",
       "      <th>champagne</th>\n",
       "      <th>brandy</th>\n",
       "    </tr>\n",
       "  </thead>\n",
       "  <tbody>\n",
       "    <tr>\n",
       "      <th>0</th>\n",
       "      <td>1998</td>\n",
       "      <td>1.9</td>\n",
       "      <td>8.8</td>\n",
       "      <td>3.4</td>\n",
       "      <td>0.3</td>\n",
       "      <td>0.1</td>\n",
       "    </tr>\n",
       "    <tr>\n",
       "      <th>1</th>\n",
       "      <td>1998</td>\n",
       "      <td>3.3</td>\n",
       "      <td>19.2</td>\n",
       "      <td>11.3</td>\n",
       "      <td>1.1</td>\n",
       "      <td>0.1</td>\n",
       "    </tr>\n",
       "    <tr>\n",
       "      <th>2</th>\n",
       "      <td>1998</td>\n",
       "      <td>2.1</td>\n",
       "      <td>21.2</td>\n",
       "      <td>17.3</td>\n",
       "      <td>0.7</td>\n",
       "      <td>0.4</td>\n",
       "    </tr>\n",
       "    <tr>\n",
       "      <th>3</th>\n",
       "      <td>1998</td>\n",
       "      <td>4.3</td>\n",
       "      <td>10.6</td>\n",
       "      <td>11.7</td>\n",
       "      <td>0.4</td>\n",
       "      <td>0.3</td>\n",
       "    </tr>\n",
       "    <tr>\n",
       "      <th>4</th>\n",
       "      <td>1998</td>\n",
       "      <td>2.9</td>\n",
       "      <td>18.0</td>\n",
       "      <td>9.5</td>\n",
       "      <td>0.8</td>\n",
       "      <td>0.2</td>\n",
       "    </tr>\n",
       "    <tr>\n",
       "      <th>...</th>\n",
       "      <td>...</td>\n",
       "      <td>...</td>\n",
       "      <td>...</td>\n",
       "      <td>...</td>\n",
       "      <td>...</td>\n",
       "      <td>...</td>\n",
       "    </tr>\n",
       "    <tr>\n",
       "      <th>1610</th>\n",
       "      <td>2016</td>\n",
       "      <td>5.0</td>\n",
       "      <td>42.3</td>\n",
       "      <td>7.7</td>\n",
       "      <td>0.7</td>\n",
       "      <td>0.4</td>\n",
       "    </tr>\n",
       "    <tr>\n",
       "      <th>1611</th>\n",
       "      <td>2016</td>\n",
       "      <td>3.9</td>\n",
       "      <td>34.0</td>\n",
       "      <td>11.6</td>\n",
       "      <td>1.8</td>\n",
       "      <td>1.1</td>\n",
       "    </tr>\n",
       "    <tr>\n",
       "      <th>1612</th>\n",
       "      <td>2016</td>\n",
       "      <td>4.3</td>\n",
       "      <td>56.1</td>\n",
       "      <td>8.2</td>\n",
       "      <td>1.8</td>\n",
       "      <td>0.5</td>\n",
       "    </tr>\n",
       "    <tr>\n",
       "      <th>1613</th>\n",
       "      <td>2016</td>\n",
       "      <td>4.5</td>\n",
       "      <td>75.8</td>\n",
       "      <td>8.2</td>\n",
       "      <td>1.7</td>\n",
       "      <td>1.3</td>\n",
       "    </tr>\n",
       "    <tr>\n",
       "      <th>1614</th>\n",
       "      <td>2016</td>\n",
       "      <td>10.2</td>\n",
       "      <td>38.0</td>\n",
       "      <td>8.9</td>\n",
       "      <td>1.4</td>\n",
       "      <td>1.0</td>\n",
       "    </tr>\n",
       "  </tbody>\n",
       "</table>\n",
       "<p>1615 rows × 6 columns</p>\n",
       "</div>"
      ],
      "text/plain": [
       "      year  wine  beer  vodka  champagne  brandy\n",
       "0     1998   1.9   8.8    3.4        0.3     0.1\n",
       "1     1998   3.3  19.2   11.3        1.1     0.1\n",
       "2     1998   2.1  21.2   17.3        0.7     0.4\n",
       "3     1998   4.3  10.6   11.7        0.4     0.3\n",
       "4     1998   2.9  18.0    9.5        0.8     0.2\n",
       "...    ...   ...   ...    ...        ...     ...\n",
       "1610  2016   5.0  42.3    7.7        0.7     0.4\n",
       "1611  2016   3.9  34.0   11.6        1.8     1.1\n",
       "1612  2016   4.3  56.1    8.2        1.8     0.5\n",
       "1613  2016   4.5  75.8    8.2        1.7     1.3\n",
       "1614  2016  10.2  38.0    8.9        1.4     1.0\n",
       "\n",
       "[1615 rows x 6 columns]"
      ]
     },
     "execution_count": 111,
     "metadata": {},
     "output_type": "execute_result"
    }
   ],
   "source": [
    "numrical_columns=df.select_dtypes('number')\n",
    "numrical_columns"
   ]
  },
  {
   "cell_type": "markdown",
   "id": "46476a5e-067c-4091-807e-4292c8c44324",
   "metadata": {},
   "source": [
    "## BAR PLOTS"
   ]
  },
  {
   "cell_type": "code",
   "execution_count": 112,
   "id": "a6f91df2-bc67-47a4-83ad-141d74d57daa",
   "metadata": {},
   "outputs": [
    {
     "data": {
      "text/plain": [
       "Text(0.5, 1.0, 'Box Plot for Numerical Columns')"
      ]
     },
     "execution_count": 112,
     "metadata": {},
     "output_type": "execute_result"
    },
    {
     "data": {
      "image/png": "[encoded data removed]",
      "text/plain": [
       "<Figure size 800x600 with 1 Axes>"
      ]
     },
     "metadata": {},
     "output_type": "display_data"
    }
   ],
   "source": [
    "plt.figure(figsize=(8, 6))\n",
    "sns.barplot(data=df[['wine','beer','vodka','champagne','brandy']],)\n",
    "plt.title('Box Plot for Numerical Columns')"
   ]
  },
  {
   "cell_type": "code",
   "execution_count": 113,
   "id": "d9f741c3-822b-4592-a1f4-dbf8dc9bf596",
   "metadata": {},
   "outputs": [
    {
     "data": {
      "image/png": "[encoded data removed]",
      "text/plain": [
       "<Figure size 640x480 with 2 Axes>"
      ]
     },
     "metadata": {},
     "output_type": "display_data"
    }
   ],
   "source": [
    "dataplot = sns.heatmap(numrical_columns.corr(), cmap=\"YlGnBu\", annot=True)\n",
    "plt.show()"
   ]
  },
  {
   "cell_type": "code",
   "execution_count": 114,
   "id": "9d47f404-003b-41c6-a38f-2f2e3992558b",
   "metadata": {},
   "outputs": [
    {
     "data": {
      "text/html": [
       "<div>\n",
       "<style scoped>\n",
       "    .dataframe tbody tr th:only-of-type {\n",
       "        vertical-align: middle;\n",
       "    }\n",
       "\n",
       "    .dataframe tbody tr th {\n",
       "        vertical-align: top;\n",
       "    }\n",
       "\n",
       "    .dataframe thead th {\n",
       "        text-align: right;\n",
       "    }\n",
       "</style>\n",
       "<table border=\"1\" class=\"dataframe\">\n",
       "  <thead>\n",
       "    <tr style=\"text-align: right;\">\n",
       "      <th></th>\n",
       "      <th>year</th>\n",
       "      <th>wine</th>\n",
       "      <th>beer</th>\n",
       "      <th>vodka</th>\n",
       "      <th>champagne</th>\n",
       "      <th>brandy</th>\n",
       "    </tr>\n",
       "  </thead>\n",
       "  <tbody>\n",
       "    <tr>\n",
       "      <th>year</th>\n",
       "      <td>1.000000</td>\n",
       "      <td>0.373094</td>\n",
       "      <td>0.388382</td>\n",
       "      <td>-0.427374</td>\n",
       "      <td>0.341233</td>\n",
       "      <td>0.492639</td>\n",
       "    </tr>\n",
       "    <tr>\n",
       "      <th>wine</th>\n",
       "      <td>0.373094</td>\n",
       "      <td>1.000000</td>\n",
       "      <td>0.504466</td>\n",
       "      <td>0.269349</td>\n",
       "      <td>0.467147</td>\n",
       "      <td>0.552824</td>\n",
       "    </tr>\n",
       "    <tr>\n",
       "      <th>beer</th>\n",
       "      <td>0.388382</td>\n",
       "      <td>0.504466</td>\n",
       "      <td>1.000000</td>\n",
       "      <td>0.199923</td>\n",
       "      <td>0.447988</td>\n",
       "      <td>0.455728</td>\n",
       "    </tr>\n",
       "    <tr>\n",
       "      <th>vodka</th>\n",
       "      <td>-0.427374</td>\n",
       "      <td>0.269349</td>\n",
       "      <td>0.199923</td>\n",
       "      <td>1.000000</td>\n",
       "      <td>0.261818</td>\n",
       "      <td>0.210142</td>\n",
       "    </tr>\n",
       "    <tr>\n",
       "      <th>champagne</th>\n",
       "      <td>0.341233</td>\n",
       "      <td>0.467147</td>\n",
       "      <td>0.447988</td>\n",
       "      <td>0.261818</td>\n",
       "      <td>1.000000</td>\n",
       "      <td>0.777556</td>\n",
       "    </tr>\n",
       "    <tr>\n",
       "      <th>brandy</th>\n",
       "      <td>0.492639</td>\n",
       "      <td>0.552824</td>\n",
       "      <td>0.455728</td>\n",
       "      <td>0.210142</td>\n",
       "      <td>0.777556</td>\n",
       "      <td>1.000000</td>\n",
       "    </tr>\n",
       "  </tbody>\n",
       "</table>\n",
       "</div>"
      ],
      "text/plain": [
       "               year      wine      beer     vodka  champagne    brandy\n",
       "year       1.000000  0.373094  0.388382 -0.427374   0.341233  0.492639\n",
       "wine       0.373094  1.000000  0.504466  0.269349   0.467147  0.552824\n",
       "beer       0.388382  0.504466  1.000000  0.199923   0.447988  0.455728\n",
       "vodka     -0.427374  0.269349  0.199923  1.000000   0.261818  0.210142\n",
       "champagne  0.341233  0.467147  0.447988  0.261818   1.000000  0.777556\n",
       "brandy     0.492639  0.552824  0.455728  0.210142   0.777556  1.000000"
      ]
     },
     "execution_count": 114,
     "metadata": {},
     "output_type": "execute_result"
    }
   ],
   "source": [
    "numrical_columns.corr()"
   ]
  },
  {
   "cell_type": "code",
   "execution_count": null,
   "id": "cea6a620-ccf8-45fd-82e7-ccb9c0ae42ab",
   "metadata": {},
   "outputs": [],
   "source": []
  },
  {
   "cell_type": "code",
   "execution_count": null,
   "id": "9685195e-5bdc-4c42-9663-3d02259ecbfb",
   "metadata": {},
   "outputs": [],
   "source": []
  }
 ],
 "metadata": {
  "kernelspec": {
   "display_name": "Python 3 (ipykernel)",
   "language": "python",
   "name": "python3"
  },
  "language_info": {
   "codemirror_mode": {
    "name": "ipython",
    "version": 3
   },
   "file_extension": ".py",
   "mimetype": "text/x-python",
   "name": "python",
   "nbconvert_exporter": "python",
   "pygments_lexer": "ipython3",
   "version": "3.11.7"
  }
 },
 "nbformat": 4,
 "nbformat_minor": 5
}
